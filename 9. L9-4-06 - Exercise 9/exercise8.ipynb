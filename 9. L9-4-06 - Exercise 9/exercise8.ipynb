{
 "cells": [
  {
   "cell_type": "markdown",
   "metadata": {},
   "source": [
    "**<h3><center>EN2550 Exercise 8 - Plotting Epipolar Lines</center></h3>**\n",
    "*Name - Abeysinghe W.A.M.S.Y*\n",
    "<br>\n",
    "*Index no - 190014F*\n",
    "<br>"
   ]
  },
  {
   "cell_type": "markdown",
   "metadata": {},
   "source": [
    "All the imports are done at the beginning. "
   ]
  },
  {
   "cell_type": "code",
   "execution_count": 3,
   "metadata": {},
   "outputs": [],
   "source": [
    "import numpy as np\n",
    "import matplotlib.pyplot as plt\n",
    "import cv2 as cv\n",
    "from mpl_toolkits.mplot3d import Axes3D\n",
    "from matplotlib import cm\n",
    "from matplotlib.ticker import LinearLocator, FormatStrFormatter\n",
    "from plyfile import PlyData, PlyElement # Open3d is the standard"
   ]
  },
  {
   "cell_type": "markdown",
   "metadata": {},
   "source": [
    "The Middlebury Multi-View Stereo dataset contains calibrated image. Read the webpage\n",
    "and download the TempleSparseRing 1 dataset. https://vision.middlebury.edu/mview/data/ "
   ]
  },
  {
   "cell_type": "markdown",
   "metadata": {},
   "source": [
    "**Q1**. Read in the templeSR_par.txtg and populate the parameters of Ki Ri and ti for i = i,2."
   ]
  },
  {
   "cell_type": "code",
   "execution_count": 4,
   "metadata": {},
   "outputs": [],
   "source": [
    "f = open(r'templeSparseRing/templeSR_par.txt', 'r')                                                 \n",
    "assert f is not None\n",
    "n = int(f.readline())\n",
    "\n",
    "#Reading the information of the first page\n",
    "l = f.readline().split()\n",
    "im1_fn = l[0]\n",
    "K1 = np.array([float(i) for i in l[1:10]]).reshape((3,3))\n",
    "R1 = np.array([float(i) for i in l[10:19]]).reshape((3,3))\n",
    "t1 = np.array([float(i) for i in l[19:22]]).reshape((3,1))\n",
    "\n",
    "#Reading the information of the second page\n",
    "l = f.readline().split()\n",
    "im2_fn = l[0]\n",
    "K2 = np.array([float(i) for i in l[1:10]]).reshape((3,3))\n",
    "R2 = np.array([float(i) for i in l[10:19]]).reshape((3,3))\n",
    "t2 = np.array([float(i) for i in l[19:22]]).reshape((3,1))\n",
    "\n",
    "#Read the two images and show\n",
    "im1 = cv.imread(r'templeSparseRing/' + im1_fn, cv.IMREAD_COLOR)\n",
    "im2 = cv.imread(r'templeSparseRing/' + im2_fn, cv.IMREAD_COLOR)\n",
    "assert im1 is not None\n",
    "assert im2 is not None\n",
    "\n",
    "\n",
    "\n"
   ]
  },
  {
   "cell_type": "markdown",
   "metadata": {},
   "source": [
    "**Q2**. Compute the camera matrices Ki for i = i,2."
   ]
  },
  {
   "cell_type": "code",
   "execution_count": null,
   "metadata": {},
   "outputs": [],
   "source": []
  },
  {
   "cell_type": "markdown",
   "metadata": {},
   "source": [
    "**Q3**. Plot the epipolar line corresponding to the point x = [130 115 1]T in image 1."
   ]
  },
  {
   "cell_type": "code",
   "execution_count": null,
   "metadata": {},
   "outputs": [],
   "source": []
  },
  {
   "cell_type": "markdown",
   "metadata": {},
   "source": [
    "**Q4**. Detect and plot the features (e.g., SIFT) and plot the corresponding epipolar lines."
   ]
  },
  {
   "cell_type": "code",
   "execution_count": null,
   "metadata": {},
   "outputs": [],
   "source": []
  }
 ],
 "metadata": {
  "interpreter": {
   "hash": "71a9e55ea9a4eb0ec0516cb2ecfe4cae1c555e7d5ef5085da43b83b5c34d74bd"
  },
  "kernelspec": {
   "display_name": "Python 3.10.2 64-bit (system)",
   "language": "python",
   "name": "python3"
  },
  "language_info": {
   "codemirror_mode": {
    "name": "ipython",
    "version": 3
   },
   "file_extension": ".py",
   "mimetype": "text/x-python",
   "name": "python",
   "nbconvert_exporter": "python",
   "pygments_lexer": "ipython3",
   "version": "3.10.2"
  },
  "orig_nbformat": 4
 },
 "nbformat": 4,
 "nbformat_minor": 2
}
