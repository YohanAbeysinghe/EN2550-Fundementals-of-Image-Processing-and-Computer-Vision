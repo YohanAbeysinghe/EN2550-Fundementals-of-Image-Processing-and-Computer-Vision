{
 "cells": [
  {
   "cell_type": "markdown",
   "metadata": {},
   "source": [
    "**<h3><center>EN2550 Exercise 9 - Structure from Motion</center></h3>**\n",
    "*Name - Abeysinghe W.A.M.S.Y*\n",
    "<br>\n",
    "*Index no - 190014F*\n",
    "<br>"
   ]
  },
  {
   "cell_type": "markdown",
   "metadata": {},
   "source": [
    "All the imports are done at the beginning. "
   ]
  },
  {
   "cell_type": "code",
   "execution_count": 1,
   "metadata": {},
   "outputs": [],
   "source": [
    "import numpy as np\n",
    "import cv2 as cv\n",
    "import matplotlib.pyplot as plt"
   ]
  },
  {
   "cell_type": "markdown",
   "metadata": {},
   "source": [
    "The Middlebury Multi-View Stereo dataset contains calibrated image. Read the webpage\n",
    "and download the TempleSparseRing 1 dataset, if you have not done so in the last\n",
    "exercise. As done last week, read in the templeSR_par.txtg and populate the parameters of\n",
    "Ki Ri and ti for i = 1,2. Compute the camera matrices Pi for i = 1,2."
   ]
  },
  {
   "cell_type": "markdown",
   "metadata": {},
   "source": [
    "**Q1**. Find SIFT features in the two images ( sift = cv.xfeatures2d.SIFT_create()) and match\n",
    "them using the Flann-based descriptor matcher."
   ]
  },
  {
   "cell_type": "code",
   "execution_count": 2,
   "metadata": {},
   "outputs": [],
   "source": [
    "s = open('templeSparseRing/templeSR_par.txt','r')\n",
    "assert s is not None\n",
    "n = int(s.readline())\n",
    "#first img\n",
    "l = s.readline().split()\n",
    "im1_fn = l[0]\n",
    "K1 = np.array([float(i) for i in l[1:10]]).reshape((3,3))\n",
    "R1 = np.array([float(i) for i in l[10:19]]).reshape((3,3))\n",
    "t1 = np.array([float(i) for i in l[19:22]]).reshape((3,1))\n",
    "#second img \n",
    "l = s.readline().split()\n",
    "im2_fn = l[0]\n",
    "K2 = np.array([float(i) for i in l[1:10]]).reshape((3,3))\n",
    "R2 = np.array([float(i) for i in l[10:19]]).reshape((3,3))\n",
    "t2 = np.array([float(i) for i in l[19:22]]).reshape((3,1))\n",
    "im1 = cv.imread('templeSparseRing/'+ im1_fn, cv.IMREAD_COLOR)\n",
    "im2 = cv.imread('templeSparseRing/'+ im2_fn, cv.IMREAD_COLOR)\n",
    "assert im1 is not None\n",
    "assert im2 is not None"
   ]
  },
  {
   "cell_type": "markdown",
   "metadata": {},
   "source": [
    "**Q2**. Compute the fundamental matrix F and the essential matrix E."
   ]
  },
  {
   "cell_type": "code",
   "execution_count": 3,
   "metadata": {},
   "outputs": [
    {
     "ename": "AttributeError",
     "evalue": "module 'cv2' has no attribute 'xfeatures2d'",
     "output_type": "error",
     "traceback": [
      "\u001b[1;31m---------------------------------------------------------------------------\u001b[0m",
      "\u001b[1;31mAttributeError\u001b[0m                            Traceback (most recent call last)",
      "\u001b[1;32m<ipython-input-3-2c378d7f8b6b>\u001b[0m in \u001b[0;36m<module>\u001b[1;34m\u001b[0m\n\u001b[1;32m----> 1\u001b[1;33m \u001b[0msift\u001b[0m \u001b[1;33m=\u001b[0m \u001b[0mcv\u001b[0m\u001b[1;33m.\u001b[0m\u001b[0mxfeatures2d\u001b[0m\u001b[1;33m.\u001b[0m\u001b[0mSIFT_create\u001b[0m\u001b[1;33m(\u001b[0m\u001b[1;33m)\u001b[0m\u001b[1;33m\u001b[0m\u001b[1;33m\u001b[0m\u001b[0m\n\u001b[0m\u001b[0;32m      2\u001b[0m \u001b[0mkp1\u001b[0m\u001b[1;33m,\u001b[0m\u001b[0mdesc1\u001b[0m \u001b[1;33m=\u001b[0m \u001b[0msift\u001b[0m\u001b[1;33m.\u001b[0m\u001b[0mdetectAndCompute\u001b[0m\u001b[1;33m(\u001b[0m\u001b[0mim1\u001b[0m\u001b[1;33m,\u001b[0m\u001b[1;32mNone\u001b[0m\u001b[1;33m)\u001b[0m\u001b[1;33m\u001b[0m\u001b[1;33m\u001b[0m\u001b[0m\n\u001b[0;32m      3\u001b[0m \u001b[0mkp2\u001b[0m\u001b[1;33m,\u001b[0m\u001b[0mdesc2\u001b[0m \u001b[1;33m=\u001b[0m \u001b[0msift\u001b[0m\u001b[1;33m.\u001b[0m\u001b[0mdetectAndCompute\u001b[0m\u001b[1;33m(\u001b[0m\u001b[0mim2\u001b[0m\u001b[1;33m,\u001b[0m\u001b[1;32mNone\u001b[0m\u001b[1;33m)\u001b[0m\u001b[1;33m\u001b[0m\u001b[1;33m\u001b[0m\u001b[0m\n\u001b[0;32m      4\u001b[0m \u001b[0mFLANN_INDEX_KDTREF\u001b[0m \u001b[1;33m=\u001b[0m \u001b[1;36m1\u001b[0m\u001b[1;33m\u001b[0m\u001b[1;33m\u001b[0m\u001b[0m\n\u001b[0;32m      5\u001b[0m \u001b[0mindex_params\u001b[0m \u001b[1;33m=\u001b[0m \u001b[0mdict\u001b[0m\u001b[1;33m(\u001b[0m\u001b[0malgorithm\u001b[0m \u001b[1;33m=\u001b[0m \u001b[0mFLANN_INDEX_KDTREF\u001b[0m\u001b[1;33m,\u001b[0m\u001b[0mtrees\u001b[0m \u001b[1;33m=\u001b[0m \u001b[1;36m5\u001b[0m\u001b[1;33m)\u001b[0m\u001b[1;33m\u001b[0m\u001b[1;33m\u001b[0m\u001b[0m\n",
      "\u001b[1;31mAttributeError\u001b[0m: module 'cv2' has no attribute 'xfeatures2d'"
     ]
    }
   ],
   "source": [
    "sift = cv.xfeatures2d.SIFT_create()\n",
    "kp1,desc1 = sift.detectAndCompute(im1,None)\n",
    "kp2,desc2 = sift.detectAndCompute(im2,None)\n",
    "FLANN_INDEX_KDTREF = 1\n",
    "index_params = dict(algorithm = FLANN_INDEX_KDTREF,trees = 5)\n",
    "search_params = dict(checks=100)\n",
    "flann = cv.FlannBasedMatcher(index_params,search_params)\n",
    "matches = flann.knnMatch(desc1,desc2, k = 2)\n",
    "good = []\n",
    "pts1 = []\n",
    "pts2 = []\n",
    "for i,(m,n) in enumerate (matches):\n",
    "    if m.distance < 0.7*n.distance:\n",
    "        good.append(m)\n",
    "        pts1.append(kp1[m.queryIdx].pt)\n",
    "        pts2.append(kp2[m.trainIdx].pt)\n",
    "\n",
    "pts1 = np.array(pts1)\n",
    "pts2 = np.array(pts2)\n",
    "F,mask = cv.findFundamentalMat(pts1,pts2,cv.FM_RANSAC)\n",
    "E = K2.T @ F @ K1\n",
    "retval,R,t,mask = cv.recoverPose(E,pts1,pts2,K1)"
   ]
  },
  {
   "cell_type": "markdown",
   "metadata": {},
   "source": [
    "**Q3**. Use recoverPose method to recover the pose of the second camera with respect to the\n",
    "first, i.e., R and t"
   ]
  },
  {
   "cell_type": "code",
   "execution_count": 6,
   "metadata": {},
   "outputs": [
    {
     "ename": "NameError",
     "evalue": "name 'E' is not defined",
     "output_type": "error",
     "traceback": [
      "\u001b[1;31m---------------------------------------------------------------------------\u001b[0m",
      "\u001b[1;31mNameError\u001b[0m                                 Traceback (most recent call last)",
      "\u001b[1;32m<ipython-input-6-24b567757a80>\u001b[0m in \u001b[0;36m<module>\u001b[1;34m\u001b[0m\n\u001b[1;32m----> 1\u001b[1;33m \u001b[0mretval\u001b[0m\u001b[1;33m,\u001b[0m\u001b[0mR\u001b[0m\u001b[1;33m,\u001b[0m\u001b[0mt\u001b[0m\u001b[1;33m,\u001b[0m\u001b[0mmask\u001b[0m \u001b[1;33m=\u001b[0m \u001b[0mcv\u001b[0m\u001b[1;33m.\u001b[0m\u001b[0mrecoverPose\u001b[0m\u001b[1;33m(\u001b[0m\u001b[0mE\u001b[0m\u001b[1;33m,\u001b[0m\u001b[0mpts1\u001b[0m\u001b[1;33m,\u001b[0m\u001b[0mpts2\u001b[0m\u001b[1;33m,\u001b[0m\u001b[0mK1\u001b[0m\u001b[1;33m)\u001b[0m\u001b[1;33m\u001b[0m\u001b[1;33m\u001b[0m\u001b[0m\n\u001b[0m",
      "\u001b[1;31mNameError\u001b[0m: name 'E' is not defined"
     ]
    }
   ],
   "source": [
    "retval,R,t,mask = cv.recoverPose(E,pts1,pts2,K1)"
   ]
  },
  {
   "cell_type": "markdown",
   "metadata": {},
   "source": [
    "**Q4**. Computer the cameras matrix P2. (Disregard that we already have this from the\n",
    "dataset.)"
   ]
  },
  {
   "cell_type": "code",
   "execution_count": 5,
   "metadata": {},
   "outputs": [
    {
     "ename": "NameError",
     "evalue": "name 'R' is not defined",
     "output_type": "error",
     "traceback": [
      "\u001b[1;31m---------------------------------------------------------------------------\u001b[0m",
      "\u001b[1;31mNameError\u001b[0m                                 Traceback (most recent call last)",
      "\u001b[1;32m<ipython-input-5-79d548c03806>\u001b[0m in \u001b[0;36m<module>\u001b[1;34m\u001b[0m\n\u001b[0;32m      1\u001b[0m \u001b[0mR_t_1\u001b[0m \u001b[1;33m=\u001b[0m \u001b[0mnp\u001b[0m\u001b[1;33m.\u001b[0m\u001b[0mconcatenate\u001b[0m\u001b[1;33m(\u001b[0m\u001b[1;33m(\u001b[0m\u001b[0mR1\u001b[0m\u001b[1;33m,\u001b[0m\u001b[0mt1\u001b[0m\u001b[1;33m)\u001b[0m\u001b[1;33m,\u001b[0m\u001b[0maxis\u001b[0m \u001b[1;33m=\u001b[0m \u001b[1;36m1\u001b[0m\u001b[1;33m)\u001b[0m\u001b[1;33m\u001b[0m\u001b[1;33m\u001b[0m\u001b[0m\n\u001b[0;32m      2\u001b[0m \u001b[0mR_t_2\u001b[0m \u001b[1;33m=\u001b[0m \u001b[0mnp\u001b[0m\u001b[1;33m.\u001b[0m\u001b[0mempty\u001b[0m\u001b[1;33m(\u001b[0m\u001b[1;33m(\u001b[0m\u001b[1;36m3\u001b[0m\u001b[1;33m,\u001b[0m\u001b[1;36m4\u001b[0m\u001b[1;33m)\u001b[0m\u001b[1;33m)\u001b[0m\u001b[1;33m\u001b[0m\u001b[1;33m\u001b[0m\u001b[0m\n\u001b[1;32m----> 3\u001b[1;33m \u001b[0mR2_\u001b[0m \u001b[1;33m=\u001b[0m \u001b[0mR1\u001b[0m\u001b[1;33m@\u001b[0m\u001b[0mR\u001b[0m\u001b[1;33m\u001b[0m\u001b[1;33m\u001b[0m\u001b[0m\n\u001b[0m\u001b[0;32m      4\u001b[0m \u001b[0mt2_\u001b[0m \u001b[1;33m=\u001b[0m \u001b[0mR1\u001b[0m\u001b[1;33m@\u001b[0m\u001b[0mt\u001b[0m\u001b[1;33m\u001b[0m\u001b[1;33m\u001b[0m\u001b[0m\n\u001b[0;32m      5\u001b[0m \u001b[0mR_t_2\u001b[0m \u001b[1;33m=\u001b[0m \u001b[0mnp\u001b[0m\u001b[1;33m.\u001b[0m\u001b[0mconcatenate\u001b[0m\u001b[1;33m(\u001b[0m\u001b[1;33m(\u001b[0m\u001b[0mR2_\u001b[0m\u001b[1;33m,\u001b[0m\u001b[0mt2_\u001b[0m\u001b[1;33m)\u001b[0m\u001b[1;33m,\u001b[0m\u001b[0maxis\u001b[0m \u001b[1;33m=\u001b[0m \u001b[1;36m1\u001b[0m\u001b[1;33m)\u001b[0m\u001b[1;33m\u001b[0m\u001b[1;33m\u001b[0m\u001b[0m\n",
      "\u001b[1;31mNameError\u001b[0m: name 'R' is not defined"
     ]
    }
   ],
   "source": [
    "R_t_1 = np.concatenate((R1,t1),axis = 1)\n",
    "R_t_2 = np.empty((3,4))\n",
    "R2_ = R1@R\n",
    "t2_ = R1@t\n",
    "R_t_2 = np.concatenate((R2_,t2_),axis = 1)\n",
    "\n",
    "P1 = K1 @ np.hstack((R1,t1)) \n",
    "P2_ = K2 @ R_t_2"
   ]
  },
  {
   "cell_type": "markdown",
   "metadata": {},
   "source": [
    "**Q5**. Find the 3-D point locations using triangulatePoints method. Plot these points."
   ]
  },
  {
   "cell_type": "code",
   "execution_count": null,
   "metadata": {},
   "outputs": [],
   "source": [
    "points4d = cv.triangulatePoints(P1,P2_,pts1.T,pts2.T)\n",
    "points4d /= points4d[3,:]\n",
    "x = points4d[0,:]\n",
    "y = points4d[1,:]\n",
    "z = points4d[2,:]\n",
    "fig = plt.figure(1)\n",
    "ax = fig.add_subplot(111,projection = '3d')\n",
    "ax.scatter(x,y,z,s = 1,cmap = 'gray')\n",
    "plt.show()"
   ]
  }
 ],
 "metadata": {
  "interpreter": {
   "hash": "71a9e55ea9a4eb0ec0516cb2ecfe4cae1c555e7d5ef5085da43b83b5c34d74bd"
  },
  "kernelspec": {
   "display_name": "Python 3.10.2 64-bit (system)",
   "language": "python",
   "name": "python3"
  },
  "language_info": {
   "codemirror_mode": {
    "name": "ipython",
    "version": 3
   },
   "file_extension": ".py",
   "mimetype": "text/x-python",
   "name": "python",
   "nbconvert_exporter": "python",
   "pygments_lexer": "ipython3",
   "version": "3.8.10"
  },
  "orig_nbformat": 4
 },
 "nbformat": 4,
 "nbformat_minor": 2
}
