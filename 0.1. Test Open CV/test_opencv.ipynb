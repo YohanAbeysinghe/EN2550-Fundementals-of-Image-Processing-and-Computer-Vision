{
 "cells": [
  {
   "cell_type": "code",
   "execution_count": null,
   "id": "1b7154d3-11ca-4e2c-8bdc-74e148f048d1",
   "metadata": {},
   "outputs": [
    {
     "ename": "",
     "evalue": "",
     "output_type": "error",
     "traceback": [
      "\u001b[1;31mFailed to start the Kernel. \n",
      "Unable to start Kernel 'Python 3.10.2' due to connection timeout. \n",
      "View Jupyter <a href='command:jupyter.viewOutput'>log</a> for further details."
     ]
    }
   ],
   "source": [
    "!pip list"
   ]
  },
  {
   "cell_type": "markdown",
   "id": "747ba639",
   "metadata": {},
   "source": [
    "The method of reading files in matplot lib and opencv is different. So BGR format should be converted to RGB format if we are usign matplot lib for displaying pictures.\n",
    "''img = cv.cvtColor(img, cv.COLOR_BGR2RGB)''"
   ]
  },
  {
   "cell_type": "code",
   "execution_count": null,
   "id": "64402d98-248a-4aac-8c65-7efeff0098b7",
   "metadata": {},
   "outputs": [],
   "source": [
    "%matplotlib inline\n",
    "import numpy as np\n",
    "import cv2 as cv\n",
    "import matplotlib.pyplot as plt\n",
    "img = cv.imread('IMG_0810.PNG', cv.IMREAD_COLOR)\n",
    "img = cv.cvtColor(img, cv.COLOR_BGR2RGB)\n",
    "fig, ax = plt.subplots()\n",
    "ax.imshow(img)\n",
    "ax.set_title('lion')\n",
    "plt.show()"
   ]
  }
 ],
 "metadata": {
  "kernelspec": {
   "display_name": "Python 3.9.7",
   "language": "python",
   "name": "python3"
  },
  "language_info": {
   "codemirror_mode": {
    "name": "ipython",
    "version": 3
   },
   "file_extension": ".py",
   "mimetype": "text/x-python",
   "name": "python",
   "nbconvert_exporter": "python",
   "pygments_lexer": "ipython3",
   "version": "3.9.7"
  },
  "vscode": {
   "interpreter": {
    "hash": "663a9e5233aac1df488c205339802926d3bdde550f8a6aea1d06d0a1f0d8b11c"
   }
  }
 },
 "nbformat": 4,
 "nbformat_minor": 5
}
